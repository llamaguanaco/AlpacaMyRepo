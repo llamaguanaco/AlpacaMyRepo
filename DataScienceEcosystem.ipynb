{
 "cells": [
  {
   "cell_type": "markdown",
   "id": "f1ca262a-d98d-4666-9a43-f5ac984fb897",
   "metadata": {
    "tags": []
   },
   "source": [
    "# Data Science Tools and Ecosystem"
   ]
  },
  {
   "cell_type": "markdown",
   "id": "b51ad819-08ab-41b6-bdf1-3edc3228f3ae",
   "metadata": {},
   "source": [
    "## Author\n",
    "Noelle Van der Tuin"
   ]
  },
  {
   "cell_type": "markdown",
   "id": "13fa4481-6298-4796-aeda-dce6e7e8e28d",
   "metadata": {},
   "source": [
    "This notebook summarizes information from the Tools for Data Science course. It summarizes information about data science tools, languages, and ecosystems."
   ]
  },
  {
   "cell_type": "markdown",
   "id": "f038e62e-4059-4fcd-b360-834c7348c960",
   "metadata": {
    "tags": []
   },
   "source": [
    "**Objectives:**\n",
    "- Set up a Jupyter notebook.\n",
    "- List data science languages.\n",
    "- List data science libraries.\n",
    "- Create tables and use various types of formatting in Markup.\n",
    "- Perform simple mathematical functions in J\n"
   ]
  },
  {
   "cell_type": "markdown",
   "id": "9941e18b-4e54-45ca-9471-b1a98b30d9f1",
   "metadata": {},
   "source": [
    "Here are some popular languages for data science:\n",
    "1. Python\n",
    "2. R\n",
    "3. SQL\n",
    "4. Scala\n",
    "5. Java"
   ]
  },
  {
   "cell_type": "markdown",
   "id": "6896801b-2e63-490d-a981-920cafc1554c",
   "metadata": {},
   "source": [
    "The following are libraries used in data science.\n",
    "1. Pandas\n",
    "2. NumPy\n",
    "3. Matplotlib\n",
    "4. Seaborn\n",
    "5. Scikitlearn\n",
    "6. Keras"
   ]
  },
  {
   "cell_type": "markdown",
   "id": "cff7f70d-64f2-47ce-986c-e29f4d2a0d97",
   "metadata": {},
   "source": [
    "| Data Science Tools |\n",
    "| --- |\n",
    "| Jupyter Lab |\n",
    "| Jupyter Notebook |\n",
    "| Apache Zeppelin |\n",
    "| R Studio |\n",
    "| Spyder |"
   ]
  },
  {
   "cell_type": "markdown",
   "id": "a4620107-a4ac-4d41-9218-42da1207fdb8",
   "metadata": {},
   "source": [
    "### The following are examples of arithmetic expressions in Python."
   ]
  },
  {
   "cell_type": "code",
   "execution_count": 2,
   "id": "f36a0723-163b-4730-82b3-1adf0d9f5f6d",
   "metadata": {
    "tags": []
   },
   "outputs": [
    {
     "data": {
      "text/plain": [
       "17"
      ]
     },
     "execution_count": 2,
     "metadata": {},
     "output_type": "execute_result"
    }
   ],
   "source": [
    "# This is an example of simple arithmetic to multiply and then add integers.\n",
    "(3*4)+5"
   ]
  },
  {
   "cell_type": "code",
   "execution_count": 3,
   "id": "290ee93c-3a39-48d1-9899-f2caeb278425",
   "metadata": {
    "tags": []
   },
   "outputs": [
    {
     "data": {
      "text/plain": [
       "3.3333333333333335"
      ]
     },
     "execution_count": 3,
     "metadata": {},
     "output_type": "execute_result"
    }
   ],
   "source": [
    "# This will convernt 200 minutes to hours by dividing by 60.\n",
    "200/60"
   ]
  },
  {
   "cell_type": "markdown",
   "id": "e257af9e-6493-4ddb-933b-967b436c4140",
   "metadata": {},
   "source": []
  }
 ],
 "metadata": {
  "kernelspec": {
   "display_name": "Python",
   "language": "python",
   "name": "conda-env-python-py"
  },
  "language_info": {
   "codemirror_mode": {
    "name": "ipython",
    "version": 3
   },
   "file_extension": ".py",
   "mimetype": "text/x-python",
   "name": "python",
   "nbconvert_exporter": "python",
   "pygments_lexer": "ipython3",
   "version": "3.7.12"
  }
 },
 "nbformat": 4,
 "nbformat_minor": 5
}
